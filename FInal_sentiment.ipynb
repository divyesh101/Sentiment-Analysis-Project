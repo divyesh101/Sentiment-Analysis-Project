{
 "cells": [
  {
   "cell_type": "code",
   "execution_count": 26,
   "metadata": {},
   "outputs": [
    {
     "name": "stdout",
     "output_type": "stream",
     "text": [
      "Requirement already satisfied: nltk in c:\\users\\91738\\appdata\\local\\programs\\python\\python312\\lib\\site-packages (3.8.1)\n",
      "Requirement already satisfied: matplotlib in c:\\users\\91738\\appdata\\local\\programs\\python\\python312\\lib\\site-packages (3.8.3)\n",
      "Requirement already satisfied: click in c:\\users\\91738\\appdata\\local\\programs\\python\\python312\\lib\\site-packages (from nltk) (8.1.7)\n",
      "Requirement already satisfied: joblib in c:\\users\\91738\\appdata\\local\\programs\\python\\python312\\lib\\site-packages (from nltk) (1.4.2)\n",
      "Requirement already satisfied: regex>=2021.8.3 in c:\\users\\91738\\appdata\\local\\programs\\python\\python312\\lib\\site-packages (from nltk) (2024.5.15)\n",
      "Requirement already satisfied: tqdm in c:\\users\\91738\\appdata\\local\\programs\\python\\python312\\lib\\site-packages (from nltk) (4.66.4)\n",
      "Requirement already satisfied: contourpy>=1.0.1 in c:\\users\\91738\\appdata\\local\\programs\\python\\python312\\lib\\site-packages (from matplotlib) (1.2.0)\n",
      "Requirement already satisfied: cycler>=0.10 in c:\\users\\91738\\appdata\\local\\programs\\python\\python312\\lib\\site-packages (from matplotlib) (0.12.1)\n",
      "Requirement already satisfied: fonttools>=4.22.0 in c:\\users\\91738\\appdata\\local\\programs\\python\\python312\\lib\\site-packages (from matplotlib) (4.50.0)\n",
      "Requirement already satisfied: kiwisolver>=1.3.1 in c:\\users\\91738\\appdata\\local\\programs\\python\\python312\\lib\\site-packages (from matplotlib) (1.4.5)\n",
      "Requirement already satisfied: numpy<2,>=1.21 in c:\\users\\91738\\appdata\\local\\programs\\python\\python312\\lib\\site-packages (from matplotlib) (1.26.4)\n",
      "Requirement already satisfied: packaging>=20.0 in c:\\users\\91738\\appdata\\local\\programs\\python\\python312\\lib\\site-packages (from matplotlib) (24.0)\n",
      "Requirement already satisfied: pillow>=8 in c:\\users\\91738\\appdata\\local\\programs\\python\\python312\\lib\\site-packages (from matplotlib) (10.2.0)\n",
      "Requirement already satisfied: pyparsing>=2.3.1 in c:\\users\\91738\\appdata\\local\\programs\\python\\python312\\lib\\site-packages (from matplotlib) (3.1.2)\n",
      "Requirement already satisfied: python-dateutil>=2.7 in c:\\users\\91738\\appdata\\local\\programs\\python\\python312\\lib\\site-packages (from matplotlib) (2.9.0.post0)\n",
      "Requirement already satisfied: six>=1.5 in c:\\users\\91738\\appdata\\local\\programs\\python\\python312\\lib\\site-packages (from python-dateutil>=2.7->matplotlib) (1.16.0)\n",
      "Requirement already satisfied: colorama in c:\\users\\91738\\appdata\\local\\programs\\python\\python312\\lib\\site-packages (from click->nltk) (0.4.6)\n"
     ]
    }
   ],
   "source": [
    "# Install required libraries\n",
    "!pip install nltk matplotlib\n",
    "\n",
    "# Import necessary libraries\n",
    "import nltk\n",
    "from nltk.sentiment.vader import SentimentIntensityAnalyzer\n",
    "from nltk.tokenize import word_tokenize, sent_tokenize\n",
    "from nltk.corpus import stopwords\n",
    "import string\n",
    "import matplotlib.pyplot as plt\n"
   ]
  },
  {
   "cell_type": "code",
   "execution_count": 27,
   "metadata": {},
   "outputs": [
    {
     "name": "stderr",
     "output_type": "stream",
     "text": [
      "[nltk_data] Downloading package vader_lexicon to\n",
      "[nltk_data]     C:\\Users\\91738\\AppData\\Roaming\\nltk_data...\n",
      "[nltk_data]   Package vader_lexicon is already up-to-date!\n",
      "[nltk_data] Downloading package punkt to\n",
      "[nltk_data]     C:\\Users\\91738\\AppData\\Roaming\\nltk_data...\n",
      "[nltk_data]   Package punkt is already up-to-date!\n",
      "[nltk_data] Downloading package stopwords to\n",
      "[nltk_data]     C:\\Users\\91738\\AppData\\Roaming\\nltk_data...\n",
      "[nltk_data]   Package stopwords is already up-to-date!\n",
      "[nltk_data] Downloading package averaged_perceptron_tagger to\n",
      "[nltk_data]     C:\\Users\\91738\\AppData\\Roaming\\nltk_data...\n",
      "[nltk_data]   Package averaged_perceptron_tagger is already up-to-\n",
      "[nltk_data]       date!\n"
     ]
    },
    {
     "data": {
      "text/plain": [
       "True"
      ]
     },
     "execution_count": 27,
     "metadata": {},
     "output_type": "execute_result"
    }
   ],
   "source": [
    "# Download required NLTK resources\n",
    "nltk.download('vader_lexicon')\n",
    "nltk.download('punkt')\n",
    "nltk.download('stopwords')\n",
    "nltk.download('averaged_perceptron_tagger')\n"
   ]
  },
  {
   "cell_type": "markdown",
   "metadata": {},
   "source": [
    "Creating analyzer (main code)"
   ]
  },
  {
   "cell_type": "code",
   "execution_count": 28,
   "metadata": {},
   "outputs": [],
   "source": [
    "# Create a Sentiment Intensity Analyzer\n",
    "sia = SentimentIntensityAnalyzer()\n",
    "\n",
    "# Extend the VADER lexicon with custom words\n",
    "custom_lexicon = {\n",
    "    'like': 1,    # Positive\n",
    "    'hate': -1,   # Negative\n",
    "    'good': 1,    # Positive\n",
    "    'bad': -1,    # Negative\n",
    "    'neutral': 0, # Neutral\n",
    "}\n",
    "sia.lexicon.update(custom_lexicon)\n",
    "\n",
    "def preprocess_sentence(sentence):\n",
    "    # Convert to lowercase\n",
    "    sentence = sentence.lower()\n",
    "    # Remove punctuation\n",
    "    sentence = sentence.translate(str.maketrans('', '', string.punctuation))\n",
    "    # Remove stop words\n",
    "    stop_words = set(stopwords.words('english'))\n",
    "    words = word_tokenize(sentence)\n",
    "    filtered_sentence = ' '.join([word for word in words if word not in stop_words])\n",
    "    return filtered_sentence\n",
    "\n",
    "def handle_negations(words):\n",
    "    negations = [\"not\", \"no\", \"never\", \"none\"]\n",
    "    for i in range(len(words)-1):\n",
    "        if words[i] in negations:\n",
    "            words[i+1] = f\"not_{words[i+1]}\"\n",
    "    return [word for word in words if word not in negations]\n",
    "\n",
    "def classify_word_sentiment(word):\n",
    "    sentiment = sia.polarity_scores(word)\n",
    "    word_score = sentiment['compound']\n",
    "    if word_score > 0:\n",
    "        return f\"{word} is Positive\"\n",
    "    elif word_score < 0:\n",
    "        return f\"{word} is Negative\"\n",
    "    else:\n",
    "        return f\"{word} is Neutral\"\n",
    "\n",
    "def classify_sentence_sentiment(sentence):\n",
    "    # Preprocess the sentence\n",
    "    sentence = preprocess_sentence(sentence)\n",
    "    # Tokenize the sentence into words\n",
    "    words = word_tokenize(sentence)\n",
    "    # Handle negations\n",
    "    words = handle_negations(words)\n",
    "    # POS tagging\n",
    "    pos_tags = nltk.pos_tag(words)\n",
    "    # Classify the sentiment of each word\n",
    "    word_sentiments = [classify_word_sentiment(word) for word, tag in pos_tags if tag.startswith('JJ') or tag.startswith('RB') or tag.startswith('NN')]\n",
    "    # Calculate the overall sentiment of the sentence\n",
    "    sentiment = sia.polarity_scores(' '.join(words))\n",
    "    sentiment_score = sentiment['compound']\n",
    "    if sentiment_score > 0:\n",
    "        overall_sentiment = \"Positive\"\n",
    "    elif sentiment_score < 0:\n",
    "        overall_sentiment = \"Negative\"\n",
    "    else:\n",
    "        overall_sentiment = \"Neutral\"\n",
    "    return overall_sentiment, sentiment_score, word_sentiments\n",
    "\n",
    "def classify_paragraph_sentiment(paragraph):\n",
    "    sentences = sent_tokenize(paragraph)\n",
    "    sentence_sentiments = []\n",
    "    for sentence in sentences:\n",
    "        overall_sentiment, sentiment_score, word_sentiments = classify_sentence_sentiment(sentence)\n",
    "        sentence_sentiments.append((sentence, overall_sentiment, sentiment_score, word_sentiments))\n",
    "    return sentence_sentiments\n"
   ]
  },
  {
   "cell_type": "code",
   "execution_count": 29,
   "metadata": {},
   "outputs": [],
   "source": [
    "def visualize_sentiment(sentiments):\n",
    "    sentences = [s[0] for s in sentiments]\n",
    "    scores = [s[2] for s in sentiments]\n",
    "    plt.figure(figsize=(10, 6))\n",
    "    plt.barh(sentences, scores, color='skyblue')\n",
    "    plt.xlabel('Sentiment Score')\n",
    "    plt.ylabel('Sentences')\n",
    "    plt.title('Sentiment Analysis')\n",
    "    plt.show()\n"
   ]
  },
  {
   "cell_type": "code",
   "execution_count": 30,
   "metadata": {},
   "outputs": [
    {
     "name": "stdout",
     "output_type": "stream",
     "text": [
      "Sentence: get lost\n",
      "Overall sentiment: Negative\n",
      "Sentiment score: -0.3182\n",
      "Word sentiments:\n",
      "  get is Neutral\n",
      "\n"
     ]
    },
    {
     "data": {
      "image/png": "[encoded data removed]",
      "text/plain": [
       "<Figure size 1000x600 with 1 Axes>"
      ]
     },
     "metadata": {},
     "output_type": "display_data"
    }
   ],
   "source": [
    "# Interactive input for sentiment analysis\n",
    "sample_paragraph = input(\"Enter a sentence or paragraph for sentiment analysis: \")\n",
    "\n",
    "if sample_paragraph.strip():\n",
    "    sentence_sentiments = classify_paragraph_sentiment(sample_paragraph)\n",
    "\n",
    "    for sentence, overall_sentiment, sentiment_score, word_sentiments in sentence_sentiments:\n",
    "        print(f\"Sentence: {sentence}\")\n",
    "        print(f\"Overall sentiment: {overall_sentiment}\")\n",
    "        print(f\"Sentiment score: {sentiment_score}\")\n",
    "        print(\"Word sentiments:\")\n",
    "        for word_sentiment in word_sentiments:\n",
    "            print(f\"  {word_sentiment}\")\n",
    "        print()\n",
    "\n",
    "    visualize_sentiment(sentence_sentiments)\n",
    "else:\n",
    "    print(\"Error: Input cannot be empty.\")\n"
   ]
  },
  {
   "cell_type": "code",
   "execution_count": null,
   "metadata": {},
   "outputs": [],
   "source": []
  }
 ],
 "metadata": {
  "kernelspec": {
   "display_name": "Python 3",
   "language": "python",
   "name": "python3"
  },
  "language_info": {
   "codemirror_mode": {
    "name": "ipython",
    "version": 3
   },
   "file_extension": ".py",
   "mimetype": "text/x-python",
   "name": "python",
   "nbconvert_exporter": "python",
   "pygments_lexer": "ipython3",
   "version": "3.12.4"
  }
 },
 "nbformat": 4,
 "nbformat_minor": 2
}
