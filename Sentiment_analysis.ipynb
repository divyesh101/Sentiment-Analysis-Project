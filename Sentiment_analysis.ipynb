{
 "cells": [
  {
   "cell_type": "code",
   "execution_count": 3,
   "metadata": {},
   "outputs": [
    {
     "name": "stdout",
     "output_type": "stream",
     "text": [
      "Requirement already satisfied: nltk in c:\\users\\91738\\appdata\\local\\programs\\python\\python312\\lib\\site-packages (3.8.1)\n",
      "Requirement already satisfied: click in c:\\users\\91738\\appdata\\local\\programs\\python\\python312\\lib\\site-packages (from nltk) (8.1.7)\n",
      "Requirement already satisfied: joblib in c:\\users\\91738\\appdata\\local\\programs\\python\\python312\\lib\\site-packages (from nltk) (1.4.2)\n",
      "Requirement already satisfied: regex>=2021.8.3 in c:\\users\\91738\\appdata\\local\\programs\\python\\python312\\lib\\site-packages (from nltk) (2024.5.15)\n",
      "Requirement already satisfied: tqdm in c:\\users\\91738\\appdata\\local\\programs\\python\\python312\\lib\\site-packages (from nltk) (4.66.4)\n",
      "Requirement already satisfied: colorama in c:\\users\\91738\\appdata\\local\\programs\\python\\python312\\lib\\site-packages (from click->nltk) (0.4.6)\n"
     ]
    }
   ],
   "source": [
    "!pip install nltk"
   ]
  },
  {
   "cell_type": "code",
   "execution_count": 4,
   "metadata": {},
   "outputs": [
    {
     "name": "stderr",
     "output_type": "stream",
     "text": [
      "[nltk_data] Downloading package vader_lexicon to\n",
      "[nltk_data]     C:\\Users\\91738\\AppData\\Roaming\\nltk_data...\n",
      "[nltk_data] Downloading package punkt to\n",
      "[nltk_data]     C:\\Users\\91738\\AppData\\Roaming\\nltk_data...\n",
      "[nltk_data]   Unzipping tokenizers\\punkt.zip.\n"
     ]
    },
    {
     "name": "stdout",
     "output_type": "stream",
     "text": [
      "The sentiment of the sentence is: Neutral\n"
     ]
    }
   ],
   "source": [
    "import nltk\n",
    "from nltk.sentiment.vader import SentimentIntensityAnalyzer\n",
    "from nltk.tokenize import word_tokenize\n",
    "import string\n",
    "\n",
    "# Download VADER lexicon and punkt tokenizer if not already downloaded\n",
    "nltk.download('vader_lexicon')\n",
    "nltk.download('punkt')\n",
    "\n",
    "# Create a Sentiment Intensity Analyzer\n",
    "sia = SentimentIntensityAnalyzer()\n",
    "\n",
    "def preprocess_sentence(sentence):\n",
    "    # Remove punctuation\n",
    "    sentence = sentence.translate(str.maketrans('', '', string.punctuation))\n",
    "    return sentence\n",
    "\n",
    "def classify_sentiment(sentence):\n",
    "    # Preprocess the sentence\n",
    "    sentence = preprocess_sentence(sentence)\n",
    "\n",
    "    # Tokenize the sentence\n",
    "    words = word_tokenize(sentence)\n",
    "\n",
    "    # Initialize sentiment score\n",
    "    sentiment_score = 0\n",
    "\n",
    "    # Calculate sentiment score for each word\n",
    "    for word in words:\n",
    "        sentiment = sia.polarity_scores(word)\n",
    "        word_score = sentiment['compound']  # Compound score ranges from -1 (negative) to 1 (positive)\n",
    "        print(\"current word::\", word ,\"  $$ score $$ \",word_score)\n",
    "        sentiment_score += word_score\n",
    "\n",
    "    # Classify the overall sentiment\n",
    "    if sentiment_score > 0:\n",
    "        return \"Positive\"\n",
    "    elif sentiment_score < 0:\n",
    "        return \"Negative\"\n",
    "    else:\n",
    "        return \"Neutral\"\n",
    "\n",
    "# Test the function with a sample sentence\n",
    "sample_sentence =input(\"Enter the sentence :\")\n",
    "result = classify_sentiment(sample_sentence)\n",
    "print(f\"The sentiment of the sentence is: {result}\")\n"
   ]
  },
  {
   "cell_type": "code",
   "execution_count": 5,
   "metadata": {},
   "outputs": [
    {
     "name": "stdout",
     "output_type": "stream",
     "text": [
      "The overall sentiment of the sentence is: Positive\n",
      "Sentiment of each word:\n",
      "I is Neutral\n",
      "like is Positive\n",
      "the is Neutral\n",
      "dinner is Neutral\n"
     ]
    },
    {
     "name": "stderr",
     "output_type": "stream",
     "text": [
      "[nltk_data] Downloading package vader_lexicon to\n",
      "[nltk_data]     C:\\Users\\91738\\AppData\\Roaming\\nltk_data...\n",
      "[nltk_data]   Package vader_lexicon is already up-to-date!\n",
      "[nltk_data] Downloading package punkt to\n",
      "[nltk_data]     C:\\Users\\91738\\AppData\\Roaming\\nltk_data...\n",
      "[nltk_data]   Package punkt is already up-to-date!\n"
     ]
    }
   ],
   "source": [
    "import nltk\n",
    "from nltk.sentiment.vader import SentimentIntensityAnalyzer\n",
    "from nltk.tokenize import word_tokenize\n",
    "import string\n",
    "\n",
    "# Download VADER lexicon and punkt tokenizer if not already downloaded\n",
    "nltk.download('vader_lexicon')\n",
    "nltk.download('punkt')\n",
    "\n",
    "# Create a Sentiment Intensity Analyzer\n",
    "sia = SentimentIntensityAnalyzer()\n",
    "\n",
    "def preprocess_sentence(sentence):\n",
    "    # Remove punctuation\n",
    "    sentence = sentence.translate(str.maketrans('', '', string.punctuation))\n",
    "    return sentence\n",
    "\n",
    "def classify_sentiment(sentence):\n",
    "    # Preprocess the sentence\n",
    "    sentence = preprocess_sentence(sentence)\n",
    "\n",
    "    # Tokenize the sentence\n",
    "    words = word_tokenize(sentence)\n",
    "\n",
    "    # Initialize sentiment score and sentiment for each word\n",
    "    sentiment_score = 0\n",
    "    word_sentiments = []\n",
    "\n",
    "    # Calculate sentiment score for each word\n",
    "    for word in words:\n",
    "        sentiment = sia.polarity_scores(word)\n",
    "        word_score = sentiment['compound']  # Compound score ranges from -1 (negative) to 1 (positive)\n",
    "        sentiment_score += word_score\n",
    "        if word_score > 0:\n",
    "            word_sentiments.append(f\"{word} is Positive\")\n",
    "        elif word_score < 0:\n",
    "            word_sentiments.append(f\"{word} is Negative\")\n",
    "        else:\n",
    "            word_sentiments.append(f\"{word} is Neutral\")\n",
    "\n",
    "    # Classify the overall sentiment\n",
    "    if sentiment_score > 0:\n",
    "        overall_sentiment = \"Positive\"\n",
    "    elif sentiment_score < 0:\n",
    "        overall_sentiment = \"Negative\"\n",
    "    else:\n",
    "        overall_sentiment = \"Neutral\"\n",
    "\n",
    "    return overall_sentiment, word_sentiments\n",
    "\n",
    "# Test the function with a sample sentence\n",
    "sample_sentence = \"I like the dinner\"\n",
    "overall_result, word_results = classify_sentiment(sample_sentence)\n",
    "print(f\"The overall sentiment of the sentence is: {overall_result}\")\n",
    "print(\"Sentiment of each word:\")\n",
    "for word_result in word_results:\n",
    "    print(word_result)\n"
   ]
  },
  {
   "cell_type": "code",
   "execution_count": 6,
   "metadata": {},
   "outputs": [
    {
     "name": "stdout",
     "output_type": "stream",
     "text": [
      "Collecting textblob\n",
      "  Downloading textblob-0.18.0.post0-py3-none-any.whl.metadata (4.5 kB)\n",
      "Requirement already satisfied: nltk>=3.8 in c:\\users\\91738\\appdata\\local\\programs\\python\\python312\\lib\\site-packages (from textblob) (3.8.1)\n",
      "Requirement already satisfied: click in c:\\users\\91738\\appdata\\local\\programs\\python\\python312\\lib\\site-packages (from nltk>=3.8->textblob) (8.1.7)\n",
      "Requirement already satisfied: joblib in c:\\users\\91738\\appdata\\local\\programs\\python\\python312\\lib\\site-packages (from nltk>=3.8->textblob) (1.4.2)\n",
      "Requirement already satisfied: regex>=2021.8.3 in c:\\users\\91738\\appdata\\local\\programs\\python\\python312\\lib\\site-packages (from nltk>=3.8->textblob) (2024.5.15)\n",
      "Requirement already satisfied: tqdm in c:\\users\\91738\\appdata\\local\\programs\\python\\python312\\lib\\site-packages (from nltk>=3.8->textblob) (4.66.4)\n",
      "Requirement already satisfied: colorama in c:\\users\\91738\\appdata\\local\\programs\\python\\python312\\lib\\site-packages (from click->nltk>=3.8->textblob) (0.4.6)\n",
      "Downloading textblob-0.18.0.post0-py3-none-any.whl (626 kB)\n",
      "   ---------------------------------------- 0.0/626.3 kB ? eta -:--:--\n",
      "   ------- -------------------------------- 112.6/626.3 kB 3.3 MB/s eta 0:00:01\n",
      "   ------------------------------- -------- 491.5/626.3 kB 6.2 MB/s eta 0:00:01\n",
      "   ---------------------------------------- 626.3/626.3 kB 6.6 MB/s eta 0:00:00\n",
      "Installing collected packages: textblob\n",
      "Successfully installed textblob-0.18.0.post0\n"
     ]
    }
   ],
   "source": [
    "!pip install textblob\n"
   ]
  },
  {
   "cell_type": "code",
   "execution_count": 7,
   "metadata": {},
   "outputs": [],
   "source": [
    "# Define a simple sentiment lexicon (you can extend this with more words and scores)\n",
    "sentiment_lexicon = {\n",
    "    'like': 1,    # Positive\n",
    "    'hate': -1,   # Negative\n",
    "    'good': 1,    # Positive\n",
    "    'bad': -1,    # Negative\n",
    "    'neutral': 0, # Neutral\n",
    "}\n",
    "\n"
   ]
  },
  {
   "cell_type": "code",
   "execution_count": 8,
   "metadata": {},
   "outputs": [],
   "source": [
    "def classify_word_sentiment(word):\n",
    "    # Check if the word exists in the lexicon\n",
    "    if word.lower() in sentiment_lexicon:\n",
    "        sentiment_score = sentiment_lexicon[word.lower()]\n",
    "        if sentiment_score > 0:\n",
    "            return f\"{word} is Positive\"\n",
    "        elif sentiment_score < 0:\n",
    "            return f\"{word} is Negative\"\n",
    "        else:\n",
    "            return f\"{word} is Neutral\"\n",
    "    else:\n",
    "        return f\"{word} is Unknown\"  # Handle words not in the lexicon as unknown\n",
    "\n",
    "\n"
   ]
  },
  {
   "cell_type": "code",
   "execution_count": 9,
   "metadata": {},
   "outputs": [],
   "source": [
    "def classify_sentence_sentiment(sentence):\n",
    "    # Tokenize the sentence into words\n",
    "    words = sentence.split()\n",
    "\n",
    "    # Classify the sentiment of each word\n",
    "    word_sentiments = [classify_word_sentiment(word) for word in words]\n",
    "\n",
    "    # Calculate the overall sentiment of the sentence\n",
    "    overall_sentiment_score = sum(sentiment_lexicon.get(word.lower(), 0) for word in words)\n",
    "    if overall_sentiment_score > 0:\n",
    "        overall_sentiment = \"Positive\"\n",
    "    elif overall_sentiment_score < 0:\n",
    "        overall_sentiment = \"Negative\"\n",
    "    else:\n",
    "        overall_sentiment = \"Neutral\"\n",
    "\n",
    "    return overall_sentiment, word_sentiments\n",
    "\n"
   ]
  },
  {
   "cell_type": "code",
   "execution_count": 10,
   "metadata": {},
   "outputs": [
    {
     "name": "stdout",
     "output_type": "stream",
     "text": [
      "The overall sentiment of the sentence is: Positive\n",
      "Sentiment of each word:\n",
      "I is Unknown\n",
      "like is Positive\n",
      "the is Unknown\n",
      "dinner is Unknown\n"
     ]
    }
   ],
   "source": [
    "# Example usage\n",
    "sample_sentence = \"I like the dinner\"\n",
    "overall_result, word_results = classify_sentence_sentiment(sample_sentence)\n",
    "print(f\"The overall sentiment of the sentence is: {overall_result}\")\n",
    "print(\"Sentiment of each word:\")\n",
    "for word_result in word_results:\n",
    "    print(word_result)"
   ]
  },
  {
   "cell_type": "code",
   "execution_count": 11,
   "metadata": {},
   "outputs": [
    {
     "name": "stderr",
     "output_type": "stream",
     "text": [
      "[nltk_data] Downloading package vader_lexicon to\n",
      "[nltk_data]     C:\\Users\\91738\\AppData\\Roaming\\nltk_data...\n",
      "[nltk_data]   Package vader_lexicon is already up-to-date!\n"
     ]
    },
    {
     "name": "stdout",
     "output_type": "stream",
     "text": [
      "The overall sentiment of the sentence is: Neutral\n",
      "The sentiment score of the sentence is: 0.0\n"
     ]
    }
   ],
   "source": [
    "import nltk\n",
    "from nltk.sentiment.vader import SentimentIntensityAnalyzer\n",
    "import string\n",
    "\n",
    "# Download VADER lexicon if not already downloaded\n",
    "nltk.download('vader_lexicon')\n",
    "\n",
    "# Create a Sentiment Intensity Analyzer\n",
    "sia = SentimentIntensityAnalyzer()\n",
    "\n",
    "def preprocess_sentence(sentence):\n",
    "    # Remove punctuation\n",
    "    sentence = sentence.translate(str.maketrans('', '', string.punctuation))\n",
    "    return sentence\n",
    "\n",
    "def classify_sentiment(sentence):\n",
    "    # Preprocess the sentence\n",
    "    sentence = preprocess_sentence(sentence)\n",
    "\n",
    "    # Analyze sentiment for the entire sentence\n",
    "    sentiment = sia.polarity_scores(sentence)\n",
    "    sentiment_score = sentiment['compound']  # Compound score ranges from -1 (negative) to 1 (positive)\n",
    "\n",
    "    # Classify the overall sentiment\n",
    "    if sentiment_score > 0:\n",
    "        overall_sentiment = \"Positive\"\n",
    "    elif sentiment_score < 0:\n",
    "        overall_sentiment = \"Negative\"\n",
    "    else:\n",
    "        overall_sentiment = \"Neutral\"\n",
    "\n",
    "    return overall_sentiment, sentiment_score\n",
    "\n",
    "# Test the function with a sample sentence\n",
    "sample_sentence =input(\"Enter the sentence :\")\n",
    "overall_result, sentiment_score = classify_sentiment(sample_sentence)\n",
    "print(f\"The overall sentiment of the sentence is: {overall_result}\")\n",
    "print(f\"The sentiment score of the sentence is: {sentiment_score}\")\n"
   ]
  }
 ],
 "metadata": {
  "kernelspec": {
   "display_name": "Python 3",
   "language": "python",
   "name": "python3"
  },
  "language_info": {
   "codemirror_mode": {
    "name": "ipython",
    "version": 3
   },
   "file_extension": ".py",
   "mimetype": "text/x-python",
   "name": "python",
   "nbconvert_exporter": "python",
   "pygments_lexer": "ipython3",
   "version": "3.12.4"
  }
 },
 "nbformat": 4,
 "nbformat_minor": 2
}
